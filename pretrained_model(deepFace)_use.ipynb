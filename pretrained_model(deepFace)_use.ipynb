{
 "cells": [
  {
   "cell_type": "code",
   "execution_count": 1,
   "id": "74a5febd",
   "metadata": {},
   "outputs": [],
   "source": [
    "import cv2\n",
    "from deepface import DeepFace\n",
    "import matplotlib.pyplot as plt"
   ]
  },
  {
   "cell_type": "code",
   "execution_count": 2,
   "id": "04eb0359",
   "metadata": {},
   "outputs": [],
   "source": [
    "import os\n",
    "os.environ['KMP_DUPLICATE_LIB_OK']='True'"
   ]
  },
  {
   "cell_type": "code",
   "execution_count": 3,
   "id": "2d68f233",
   "metadata": {},
   "outputs": [],
   "source": [
    "model = DeepFace.build_model(\"Emotion\")"
   ]
  },
  {
   "cell_type": "code",
   "execution_count": 4,
   "id": "3cc9ead9",
   "metadata": {},
   "outputs": [],
   "source": [
    "emotion_labels = ['Angry', 'Disgusted', 'Fearful', 'Happy', 'Sad', 'Surprised', 'Neutral']"
   ]
  },
  {
   "cell_type": "code",
   "execution_count": 5,
   "id": "297ab2e8",
   "metadata": {},
   "outputs": [],
   "source": [
    "face_cascade = cv2.CascadeClassifier('models/haarcascade_frontalface_default.xml')"
   ]
  },
  {
   "cell_type": "code",
   "execution_count": 6,
   "id": "2b3949f0",
   "metadata": {},
   "outputs": [],
   "source": [
    "# cap = cv2.VideoCapture('input_datas/eww-god-no.mp4')\n",
    "cap = cv2.VideoCapture(0)\n",
    "\n",
    "while True:\n",
    "    # Capture frame-by-frame\n",
    "    ret, frame = cap.read()\n",
    "    \n",
    "    if not ret:\n",
    "        break\n",
    "\n",
    "    gray_frame = cv2.cvtColor(frame, cv2.COLOR_BGR2GRAY)\n",
    "\n",
    "    # Detect faces in the frame\n",
    "    faces = face_cascade.detectMultiScale(gray_frame, scaleFactor=1.1, minNeighbors=5, minSize=(30, 30))\n",
    "\n",
    "    for (x, y, w, h) in faces:\n",
    "        # extract the face ROI (Region of Interest)\n",
    "        face_roi = gray_frame[y:y + h, x:x + w]\n",
    "\n",
    "        # Resize the face ROI to match the input shape of the model\n",
    "        resized_face = cv2.resize(face_roi, (48, 48), interpolation=cv2.INTER_AREA)\n",
    "\n",
    "        # Normalize the resized image\n",
    "        normalized_face = resized_face / 255.0\n",
    "\n",
    "        # Reshape the image to match the input shape of the model\n",
    "        reshaped_face = normalized_face.reshape(1, 48, 48, 1)\n",
    "\n",
    "        # Predict emotions using the pre-trained model\n",
    "        preds = model.predict(reshaped_face)[0]\n",
    "        emotion_idx = preds.argmax()\n",
    "        emotion = emotion_labels[emotion_idx]\n",
    "\n",
    "        # Draw rectangle around face and label with predicted emotion\n",
    "        cv2.rectangle(frame, (x, y), (x + w, y + h), (0, 255, 0), 2)\n",
    "        cv2.putText(frame, emotion, (x, y - 10), cv2.FONT_HERSHEY_SIMPLEX, 0.9, (0, 255, 0), 2)\n",
    "\n",
    "    cv2.imshow('Emotion Detector', frame)\n",
    "\n",
    "    # Press 'q' to exit\n",
    "    if cv2.waitKey(1) & 0xFF == ord('q'):\n",
    "        break\n",
    "\n",
    "cap.release()\n",
    "cv2.destroyAllWindows()\n",
    "# plt.imshow(frame[...,::-1])"
   ]
  },
  {
   "cell_type": "code",
   "execution_count": null,
   "id": "681b1a14",
   "metadata": {},
   "outputs": [],
   "source": []
  }
 ],
 "metadata": {
  "kernelspec": {
   "display_name": "Python 3 (ipykernel)",
   "language": "python",
   "name": "python3"
  },
  "language_info": {
   "codemirror_mode": {
    "name": "ipython",
    "version": 3
   },
   "file_extension": ".py",
   "mimetype": "text/x-python",
   "name": "python",
   "nbconvert_exporter": "python",
   "pygments_lexer": "ipython3",
   "version": "3.10.9"
  }
 },
 "nbformat": 4,
 "nbformat_minor": 5
}
