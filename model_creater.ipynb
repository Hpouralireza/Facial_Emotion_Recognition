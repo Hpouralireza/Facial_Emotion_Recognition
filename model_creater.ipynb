{
 "cells": [
  {
   "cell_type": "code",
   "execution_count": 1,
   "id": "5ab42e98",
   "metadata": {},
   "outputs": [],
   "source": [
    "import cv2\n",
    "import numpy as np\n",
    "import matplotlib.pyplot as plt"
   ]
  },
  {
   "cell_type": "code",
   "execution_count": 2,
   "id": "744a3133",
   "metadata": {},
   "outputs": [],
   "source": [
    "from tensorflow.keras.models import Sequential\n",
    "from tensorflow.keras.layers import Dense, Dropout, Flatten, Conv2D, MaxPooling2D\n",
    "from tensorflow.keras.optimizers import Adam\n",
    "from tensorflow.keras.preprocessing.image import ImageDataGenerator"
   ]
  },
  {
   "cell_type": "code",
   "execution_count": 3,
   "id": "f7972421",
   "metadata": {},
   "outputs": [],
   "source": [
    "import os\n",
    "os.environ['KMP_DUPLICATE_LIB_OK']='True'"
   ]
  },
  {
   "cell_type": "code",
   "execution_count": 4,
   "id": "f9f59c45",
   "metadata": {},
   "outputs": [
    {
     "name": "stdout",
     "output_type": "stream",
     "text": [
      "Found 28709 images belonging to 7 classes.\n",
      "Found 7178 images belonging to 7 classes.\n"
     ]
    }
   ],
   "source": [
    "train_dir = 'dataset/train'\n",
    "val_dir = 'dataset/test'\n",
    "\n",
    "num_train = 28709\n",
    "num_val = 7178\n",
    "batch_size = 64\n",
    "epoch_num = 55\n",
    "\n",
    "datagen = ImageDataGenerator(rescale=1./255)\n",
    "\n",
    "train_generator = datagen.flow_from_directory(train_dir,\n",
    "                                              target_size=(48,48),\n",
    "                                              batch_size=batch_size,\n",
    "                                              color_mode=\"grayscale\",\n",
    "                                              class_mode='categorical')\n",
    "\n",
    "validation_generator = datagen.flow_from_directory(val_dir,\n",
    "                                                   target_size=(48,48),\n",
    "                                                   batch_size=batch_size,\n",
    "                                                   color_mode=\"grayscale\",\n",
    "                                                   class_mode='categorical')"
   ]
  },
  {
   "cell_type": "code",
   "execution_count": 5,
   "id": "3d84fd94",
   "metadata": {},
   "outputs": [],
   "source": [
    "model = Sequential()\n",
    "\n",
    "model.add(Conv2D(32, kernel_size=(3, 3), activation='relu', input_shape=(48,48,1)))\n",
    "model.add(Conv2D(64, kernel_size=(3, 3), activation='relu'))\n",
    "model.add(MaxPooling2D(pool_size=(2, 2)))\n",
    "model.add(Dropout(0.25))\n",
    "\n",
    "model.add(Conv2D(128, kernel_size=(3, 3), activation='relu'))\n",
    "model.add(MaxPooling2D(pool_size=(2, 2)))\n",
    "model.add(Conv2D(128, kernel_size=(3, 3), activation='relu'))\n",
    "model.add(MaxPooling2D(pool_size=(2, 2)))\n",
    "model.add(Dropout(0.25))\n",
    "\n",
    "model.add(Flatten())\n",
    "model.add(Dense(1024, activation='relu'))\n",
    "model.add(Dropout(0.5))\n",
    "model.add(Dense(7, activation='softmax'))"
   ]
  },
  {
   "cell_type": "code",
   "execution_count": 6,
   "id": "cd49fc9f",
   "metadata": {},
   "outputs": [],
   "source": [
    "opt = Adam(learning_rate=0.0001, decay=1e-6)\n",
    "model.compile(loss='categorical_crossentropy', optimizer=opt, metrics=['accuracy'])"
   ]
  },
  {
   "cell_type": "code",
   "execution_count": 7,
   "id": "2b662f4a",
   "metadata": {},
   "outputs": [
    {
     "name": "stdout",
     "output_type": "stream",
     "text": [
      "Epoch 1/55\n",
      "448/448 [==============================] - 80s 176ms/step - loss: 1.7999 - accuracy: 0.2612 - val_loss: 1.7032 - val_accuracy: 0.3203\n",
      "Epoch 2/55\n",
      "448/448 [==============================] - 78s 175ms/step - loss: 1.6178 - accuracy: 0.3695 - val_loss: 1.5399 - val_accuracy: 0.4121\n",
      "Epoch 3/55\n",
      "448/448 [==============================] - 74s 165ms/step - loss: 1.5206 - accuracy: 0.4150 - val_loss: 1.4633 - val_accuracy: 0.4420\n",
      "Epoch 4/55\n",
      "448/448 [==============================] - 70s 156ms/step - loss: 1.4520 - accuracy: 0.4446 - val_loss: 1.4464 - val_accuracy: 0.4569\n",
      "Epoch 5/55\n",
      "448/448 [==============================] - 72s 161ms/step - loss: 1.4002 - accuracy: 0.4663 - val_loss: 1.3512 - val_accuracy: 0.4891\n",
      "Epoch 6/55\n",
      "448/448 [==============================] - 73s 163ms/step - loss: 1.3499 - accuracy: 0.4878 - val_loss: 1.3125 - val_accuracy: 0.5066\n",
      "Epoch 7/55\n",
      "448/448 [==============================] - 70s 157ms/step - loss: 1.3085 - accuracy: 0.5041 - val_loss: 1.2828 - val_accuracy: 0.5151\n",
      "Epoch 8/55\n",
      "448/448 [==============================] - 67s 149ms/step - loss: 1.2673 - accuracy: 0.5205 - val_loss: 1.2426 - val_accuracy: 0.5343\n",
      "Epoch 9/55\n",
      "448/448 [==============================] - 69s 155ms/step - loss: 1.2328 - accuracy: 0.5333 - val_loss: 1.2265 - val_accuracy: 0.5368\n",
      "Epoch 10/55\n",
      "448/448 [==============================] - 72s 160ms/step - loss: 1.2043 - accuracy: 0.5475 - val_loss: 1.1971 - val_accuracy: 0.5473\n",
      "Epoch 11/55\n",
      "448/448 [==============================] - 72s 160ms/step - loss: 1.1746 - accuracy: 0.5571 - val_loss: 1.1871 - val_accuracy: 0.5463\n",
      "Epoch 12/55\n",
      "448/448 [==============================] - 67s 149ms/step - loss: 1.1479 - accuracy: 0.5705 - val_loss: 1.1660 - val_accuracy: 0.5578\n",
      "Epoch 13/55\n",
      "448/448 [==============================] - 68s 152ms/step - loss: 1.1195 - accuracy: 0.5805 - val_loss: 1.1581 - val_accuracy: 0.5580\n",
      "Epoch 14/55\n",
      "448/448 [==============================] - 69s 155ms/step - loss: 1.0953 - accuracy: 0.5898 - val_loss: 1.1394 - val_accuracy: 0.5698\n",
      "Epoch 15/55\n",
      "448/448 [==============================] - 76s 169ms/step - loss: 1.0693 - accuracy: 0.5997 - val_loss: 1.1324 - val_accuracy: 0.5685\n",
      "Epoch 16/55\n",
      "448/448 [==============================] - 74s 165ms/step - loss: 1.0503 - accuracy: 0.6081 - val_loss: 1.1183 - val_accuracy: 0.5746\n",
      "Epoch 17/55\n",
      "448/448 [==============================] - 78s 173ms/step - loss: 1.0257 - accuracy: 0.6193 - val_loss: 1.1169 - val_accuracy: 0.5776\n",
      "Epoch 18/55\n",
      "448/448 [==============================] - 74s 165ms/step - loss: 1.0006 - accuracy: 0.6298 - val_loss: 1.1077 - val_accuracy: 0.5802\n",
      "Epoch 19/55\n",
      "448/448 [==============================] - 68s 153ms/step - loss: 0.9739 - accuracy: 0.6391 - val_loss: 1.0940 - val_accuracy: 0.5912\n",
      "Epoch 20/55\n",
      "448/448 [==============================] - 69s 153ms/step - loss: 0.9527 - accuracy: 0.6482 - val_loss: 1.0948 - val_accuracy: 0.5897\n",
      "Epoch 21/55\n",
      "448/448 [==============================] - 69s 153ms/step - loss: 0.9349 - accuracy: 0.6568 - val_loss: 1.0881 - val_accuracy: 0.5917\n",
      "Epoch 22/55\n",
      "448/448 [==============================] - 68s 152ms/step - loss: 0.9131 - accuracy: 0.6618 - val_loss: 1.0779 - val_accuracy: 0.5975\n",
      "Epoch 23/55\n",
      "448/448 [==============================] - 71s 159ms/step - loss: 0.8867 - accuracy: 0.6760 - val_loss: 1.0801 - val_accuracy: 0.5944\n",
      "Epoch 24/55\n",
      "448/448 [==============================] - 67s 149ms/step - loss: 0.8619 - accuracy: 0.6834 - val_loss: 1.0763 - val_accuracy: 0.6035\n",
      "Epoch 25/55\n",
      "448/448 [==============================] - 70s 156ms/step - loss: 0.8417 - accuracy: 0.6898 - val_loss: 1.0796 - val_accuracy: 0.6025\n",
      "Epoch 26/55\n",
      "448/448 [==============================] - 69s 154ms/step - loss: 0.8200 - accuracy: 0.6973 - val_loss: 1.0759 - val_accuracy: 0.5991\n",
      "Epoch 27/55\n",
      "448/448 [==============================] - 70s 156ms/step - loss: 0.7962 - accuracy: 0.7099 - val_loss: 1.0761 - val_accuracy: 0.6074\n",
      "Epoch 28/55\n",
      "448/448 [==============================] - 71s 159ms/step - loss: 0.7759 - accuracy: 0.7213 - val_loss: 1.0725 - val_accuracy: 0.6108\n",
      "Epoch 29/55\n",
      "448/448 [==============================] - 67s 150ms/step - loss: 0.7530 - accuracy: 0.7252 - val_loss: 1.0670 - val_accuracy: 0.6129\n",
      "Epoch 30/55\n",
      "448/448 [==============================] - 71s 159ms/step - loss: 0.7283 - accuracy: 0.7358 - val_loss: 1.0956 - val_accuracy: 0.6044\n",
      "Epoch 31/55\n",
      "448/448 [==============================] - 69s 155ms/step - loss: 0.7108 - accuracy: 0.7396 - val_loss: 1.0911 - val_accuracy: 0.6081\n",
      "Epoch 32/55\n",
      "448/448 [==============================] - 69s 154ms/step - loss: 0.6870 - accuracy: 0.7521 - val_loss: 1.0825 - val_accuracy: 0.6123\n",
      "Epoch 33/55\n",
      "448/448 [==============================] - 72s 160ms/step - loss: 0.6610 - accuracy: 0.7606 - val_loss: 1.0850 - val_accuracy: 0.6119\n",
      "Epoch 34/55\n",
      "448/448 [==============================] - 68s 152ms/step - loss: 0.6463 - accuracy: 0.7673 - val_loss: 1.0904 - val_accuracy: 0.6147\n",
      "Epoch 35/55\n",
      "448/448 [==============================] - 73s 164ms/step - loss: 0.6307 - accuracy: 0.7716 - val_loss: 1.1022 - val_accuracy: 0.6083\n",
      "Epoch 36/55\n",
      "448/448 [==============================] - 74s 164ms/step - loss: 0.6102 - accuracy: 0.7796 - val_loss: 1.1181 - val_accuracy: 0.6155\n",
      "Epoch 37/55\n",
      "448/448 [==============================] - 73s 164ms/step - loss: 0.5904 - accuracy: 0.7857 - val_loss: 1.1140 - val_accuracy: 0.6137\n",
      "Epoch 38/55\n",
      "448/448 [==============================] - 71s 157ms/step - loss: 0.5734 - accuracy: 0.7937 - val_loss: 1.1082 - val_accuracy: 0.6190\n",
      "Epoch 39/55\n",
      "448/448 [==============================] - 76s 170ms/step - loss: 0.5546 - accuracy: 0.7990 - val_loss: 1.1285 - val_accuracy: 0.6196\n",
      "Epoch 40/55\n",
      "448/448 [==============================] - 72s 160ms/step - loss: 0.5366 - accuracy: 0.8043 - val_loss: 1.1200 - val_accuracy: 0.6130\n",
      "Epoch 41/55\n",
      "448/448 [==============================] - 71s 158ms/step - loss: 0.5165 - accuracy: 0.8121 - val_loss: 1.1438 - val_accuracy: 0.6148\n",
      "Epoch 42/55\n",
      "448/448 [==============================] - 74s 166ms/step - loss: 0.4993 - accuracy: 0.8184 - val_loss: 1.1480 - val_accuracy: 0.6205\n",
      "Epoch 43/55\n",
      "448/448 [==============================] - 71s 159ms/step - loss: 0.4843 - accuracy: 0.8244 - val_loss: 1.1531 - val_accuracy: 0.6179\n",
      "Epoch 44/55\n",
      "448/448 [==============================] - 70s 157ms/step - loss: 0.4694 - accuracy: 0.8335 - val_loss: 1.1724 - val_accuracy: 0.6212\n",
      "Epoch 45/55\n",
      "448/448 [==============================] - 74s 165ms/step - loss: 0.4536 - accuracy: 0.8383 - val_loss: 1.1715 - val_accuracy: 0.6200\n",
      "Epoch 46/55\n",
      "448/448 [==============================] - 69s 155ms/step - loss: 0.4400 - accuracy: 0.8406 - val_loss: 1.1793 - val_accuracy: 0.6200\n",
      "Epoch 47/55\n",
      "448/448 [==============================] - 72s 161ms/step - loss: 0.4315 - accuracy: 0.8440 - val_loss: 1.2035 - val_accuracy: 0.6177\n",
      "Epoch 48/55\n",
      "448/448 [==============================] - 71s 159ms/step - loss: 0.4141 - accuracy: 0.8516 - val_loss: 1.1862 - val_accuracy: 0.6228\n",
      "Epoch 49/55\n",
      "448/448 [==============================] - 70s 156ms/step - loss: 0.4021 - accuracy: 0.8558 - val_loss: 1.1979 - val_accuracy: 0.6198\n",
      "Epoch 50/55\n",
      "448/448 [==============================] - 69s 155ms/step - loss: 0.3930 - accuracy: 0.8592 - val_loss: 1.2126 - val_accuracy: 0.6228\n",
      "Epoch 51/55\n",
      "448/448 [==============================] - 72s 160ms/step - loss: 0.3770 - accuracy: 0.8649 - val_loss: 1.2229 - val_accuracy: 0.6215\n",
      "Epoch 52/55\n",
      "448/448 [==============================] - 72s 160ms/step - loss: 0.3742 - accuracy: 0.8650 - val_loss: 1.2412 - val_accuracy: 0.6221\n",
      "Epoch 53/55\n",
      "448/448 [==============================] - 72s 160ms/step - loss: 0.3520 - accuracy: 0.8726 - val_loss: 1.2721 - val_accuracy: 0.6226\n",
      "Epoch 54/55\n",
      "448/448 [==============================] - 72s 161ms/step - loss: 0.3460 - accuracy: 0.8768 - val_loss: 1.2567 - val_accuracy: 0.6183\n",
      "Epoch 55/55\n",
      "448/448 [==============================] - 73s 162ms/step - loss: 0.3436 - accuracy: 0.8760 - val_loss: 1.2575 - val_accuracy: 0.6203\n"
     ]
    }
   ],
   "source": [
    "model_info = model.fit(\n",
    "        train_generator,\n",
    "        steps_per_epoch=num_train // batch_size,\n",
    "        epochs=epoch_num,\n",
    "        validation_data=validation_generator,\n",
    "        validation_steps=num_val // batch_size)"
   ]
  },
  {
   "cell_type": "code",
   "execution_count": 8,
   "id": "6749dd1b",
   "metadata": {},
   "outputs": [],
   "source": [
    "model.save_weights('models/model.h5')"
   ]
  },
  {
   "cell_type": "code",
   "execution_count": null,
   "id": "7da92d81",
   "metadata": {},
   "outputs": [],
   "source": []
  }
 ],
 "metadata": {
  "kernelspec": {
   "display_name": "Python 3 (ipykernel)",
   "language": "python",
   "name": "python3"
  },
  "language_info": {
   "codemirror_mode": {
    "name": "ipython",
    "version": 3
   },
   "file_extension": ".py",
   "mimetype": "text/x-python",
   "name": "python",
   "nbconvert_exporter": "python",
   "pygments_lexer": "ipython3",
   "version": "3.10.9"
  }
 },
 "nbformat": 4,
 "nbformat_minor": 5
}
